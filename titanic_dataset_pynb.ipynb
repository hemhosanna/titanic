{
  "nbformat": 4,
  "nbformat_minor": 0,
  "metadata": {
    "colab": {
      "provenance": [],
      "authorship_tag": "ABX9TyNkjBHGr0f6YG6HhPqjnLtq",
      "include_colab_link": true
    },
    "kernelspec": {
      "name": "python3",
      "display_name": "Python 3"
    },
    "language_info": {
      "name": "python"
    }
  },
  "cells": [
    {
      "cell_type": "markdown",
      "metadata": {
        "id": "view-in-github",
        "colab_type": "text"
      },
      "source": [
        "<a href=\"https://colab.research.google.com/github/hemhosanna/titanic/blob/main/titanic_dataset_pynb.ipynb\" target=\"_parent\"><img src=\"https://colab.research.google.com/assets/colab-badge.svg\" alt=\"Open In Colab\"/></a>"
      ]
    },
    {
      "cell_type": "code",
      "execution_count": null,
      "metadata": {
        "colab": {
          "base_uri": "https://localhost:8080/"
        },
        "id": "rJoeR2bEQqn-",
        "outputId": "fcccc739-b2e0-4dee-be3e-cff2da6b3efd"
      },
      "outputs": [
        {
          "output_type": "stream",
          "name": "stdout",
          "text": [
            "   PassengerId  Survived  Pclass  \\\n",
            "0            1         0       3   \n",
            "1            2         1       1   \n",
            "2            3         1       3   \n",
            "3            4         1       1   \n",
            "4            5         0       3   \n",
            "\n",
            "                                                Name     Sex   Age  SibSp  \\\n",
            "0                            Braund, Mr. Owen Harris    male  22.0      1   \n",
            "1  Cumings, Mrs. John Bradley (Florence Briggs Th...  female  38.0      1   \n",
            "2                             Heikkinen, Miss. Laina  female  26.0      0   \n",
            "3       Futrelle, Mrs. Jacques Heath (Lily May Peel)  female  35.0      1   \n",
            "4                           Allen, Mr. William Henry    male  35.0      0   \n",
            "\n",
            "   Parch            Ticket     Fare Cabin Embarked  \n",
            "0      0         A/5 21171   7.2500   NaN        S  \n",
            "1      0          PC 17599  71.2833   C85        C  \n",
            "2      0  STON/O2. 3101282   7.9250   NaN        S  \n",
            "3      0            113803  53.1000  C123        S  \n",
            "4      0            373450   8.0500   NaN        S  \n"
          ]
        }
      ],
      "source": [
        "import pandas as pd\n",
        "df = pd.read_csv('titanic.csv')\n",
        "print(df.head())"
      ]
    },
    {
      "cell_type": "code",
      "source": [],
      "metadata": {
        "id": "UZ7ml3Z7gN5G"
      },
      "execution_count": null,
      "outputs": []
    },
    {
      "cell_type": "code",
      "source": [
        "print(df.dtypes)"
      ],
      "metadata": {
        "colab": {
          "base_uri": "https://localhost:8080/"
        },
        "id": "jnm9oWZLR6sC",
        "outputId": "6cd646b3-7e65-40f0-9d2d-2f2ea93865c2"
      },
      "execution_count": null,
      "outputs": [
        {
          "output_type": "stream",
          "name": "stdout",
          "text": [
            "PassengerId      int64\n",
            "Survived         int64\n",
            "Pclass           int64\n",
            "Name            object\n",
            "Sex             object\n",
            "Age            float64\n",
            "SibSp            int64\n",
            "Parch            int64\n",
            "Ticket          object\n",
            "Fare           float64\n",
            "Cabin           object\n",
            "Embarked        object\n",
            "dtype: object\n"
          ]
        }
      ]
    },
    {
      "cell_type": "code",
      "source": [
        "print(df.isnull().sum())"
      ],
      "metadata": {
        "colab": {
          "base_uri": "https://localhost:8080/"
        },
        "id": "1w-3yL3wR9tF",
        "outputId": "28dfb6e4-6b19-4820-b1bc-bbe99ac317fb"
      },
      "execution_count": null,
      "outputs": [
        {
          "output_type": "stream",
          "name": "stdout",
          "text": [
            "PassengerId      0\n",
            "Survived         0\n",
            "Pclass           0\n",
            "Name             0\n",
            "Sex              0\n",
            "Age            177\n",
            "SibSp            0\n",
            "Parch            0\n",
            "Ticket           0\n",
            "Fare             0\n",
            "Cabin          687\n",
            "Embarked         2\n",
            "dtype: int64\n"
          ]
        }
      ]
    },
    {
      "cell_type": "code",
      "source": [
        "import pandas as pd\n",
        "import matplotlib.pyplot as plt\n",
        "import seaborn as sns\n",
        "df = pd.read_csv('titanic.csv')\n",
        "df = df.drop(['Name', 'Ticket', 'Cabin'], axis=1)\n",
        "df = pd.get_dummies(df, columns=['Embarked', 'Sex'], drop_first=True)\n",
        "df['Age'].fillna(df['Age'].mean(), inplace=True)\n",
        "gender_counts = df['Sex_male'].value_counts()\n",
        "plt.figure(figsize=(6, 4))\n",
        "sns.barplot(x=gender_counts.index, y=gender_counts.values, palette='viridis')\n",
        "plt.title('Gender Ratio on Titanic')\n",
        "plt.xlabel('Gender (0: Female, 1: Male)')\n",
        "plt.ylabel('Count')\n",
        "plt.show()\n"
      ],
      "metadata": {
        "colab": {
          "base_uri": "https://localhost:8080/",
          "height": 517
        },
        "id": "xddhuxLqSA3Q",
        "outputId": "2e6254e2-f930-4935-bf88-8af912300a1f"
      },
      "execution_count": null,
      "outputs": [
        {
          "output_type": "stream",
          "name": "stderr",
          "text": [
            "<ipython-input-5-9f89e5e775ad>:10: FutureWarning: \n",
            "\n",
            "Passing `palette` without assigning `hue` is deprecated and will be removed in v0.14.0. Assign the `x` variable to `hue` and set `legend=False` for the same effect.\n",
            "\n",
            "  sns.barplot(x=gender_counts.index, y=gender_counts.values, palette='viridis')\n"
          ]
        },
        {
          "output_type": "display_data",
          "data": {
            "text/plain": [
              "<Figure size 600x400 with 1 Axes>"
            ],
            "image/png": "[encoded data removed]"
          },
          "metadata": {}
        }
      ]
    },
    {
      "cell_type": "code",
      "source": [
        "import pandas as pd\n",
        "from sklearn.model_selection import train_test_split\n",
        "from sklearn.preprocessing import StandardScaler\n",
        "from sklearn.linear_model import LogisticRegression\n",
        "from sklearn.metrics import accuracy_score, classification_report, confusion_matrix\n",
        "df = pd.read_csv('titanic.csv')\n",
        "df = df.drop(['Name', 'Ticket', 'Cabin'], axis=1)\n",
        "df = pd.get_dummies(df, columns=['Embarked', 'Sex'], drop_first=True)\n",
        "df['Age'].fillna(df['Age'].mean(), inplace=True)\n",
        "X = df.drop('Survived', axis=1)\n",
        "y = df['Survived']\n",
        "X_train, X_test, y_train, y_test = train_test_split(X, y, test_size=0.2, random_state=42)\n",
        "scaler = StandardScaler()\n",
        "X_train_scaled = scaler.fit_transform(X_train)\n",
        "X_test_scaled = scaler.transform(X_test)\n",
        "model = LogisticRegression(random_state=42)\n",
        "model.fit(X_train_scaled, y_train)\n",
        "y_pred = model.predict(X_test_scaled)\n",
        "accuracy = accuracy_score(y_test, y_pred)\n",
        "print(f'Accuracy: {accuracy*100:.2f}')\n",
        "\n",
        "print('Confusion Matrix:')\n",
        "print(confusion_matrix(y_test, y_pred))\n",
        "\n",
        "print('Classification Report:')\n",
        "print(classification_report(y_test, y_pred))\n",
        "results = pd.DataFrame({\n",
        "    'PassengerId': X_test.index,\n",
        "    'Actual Survived': y_test.values,\n",
        "    'Predicted Survived': y_pred,\n",
        "})\n",
        "pd.set_option('display.max_rows', None)\n",
        "print('\\nPrediction Results:')\n",
        "print(results)\n"
      ],
      "metadata": {
        "colab": {
          "base_uri": "https://localhost:8080/"
        },
        "id": "8RfNLAX2S4nF",
        "outputId": "f376a0bf-47ec-46c5-b635-ab6f2c3dad17"
      },
      "execution_count": null,
      "outputs": [
        {
          "output_type": "stream",
          "name": "stdout",
          "text": [
            "Accuracy: 80.45\n",
            "Confusion Matrix:\n",
            "[[89 16]\n",
            " [19 55]]\n",
            "Classification Report:\n",
            "              precision    recall  f1-score   support\n",
            "\n",
            "           0       0.82      0.85      0.84       105\n",
            "           1       0.77      0.74      0.76        74\n",
            "\n",
            "    accuracy                           0.80       179\n",
            "   macro avg       0.80      0.80      0.80       179\n",
            "weighted avg       0.80      0.80      0.80       179\n",
            "\n",
            "\n",
            "Prediction Results:\n",
            "     PassengerId  Actual Survived  Predicted Survived\n",
            "0            709                1                   0\n",
            "1            439                0                   0\n",
            "2            840                0                   0\n",
            "3            720                1                   1\n",
            "4             39                1                   1\n",
            "5            290                1                   1\n",
            "6            300                1                   1\n",
            "7            333                0                   0\n",
            "8            208                1                   1\n",
            "9            136                1                   1\n",
            "10           137                0                   0\n",
            "11           696                0                   0\n",
            "12           485                0                   0\n",
            "13           244                0                   0\n",
            "14           344                0                   0\n",
            "15           853                1                   1\n",
            "16           621                1                   0\n",
            "17           653                1                   1\n",
            "18           886                0                   0\n",
            "19           110                0                   0\n",
            "20           294                0                   0\n",
            "21           447                1                   0\n",
            "22           192                1                   1\n",
            "23           682                0                   0\n",
            "24           538                0                   0\n",
            "25           819                0                   0\n",
            "26            30                0                   0\n",
            "27           673                1                   0\n",
            "28            63                0                   0\n",
            "29           396                0                   1\n",
            "30           877                0                   0\n",
            "31           141                1                   1\n",
            "32           793                0                   1\n",
            "33           235                0                   1\n",
            "34           204                1                   0\n",
            "35           620                0                   0\n",
            "36            23                1                   0\n",
            "37           198                1                   1\n",
            "38           842                1                   1\n",
            "39           739                0                   0\n",
            "40           120                0                   0\n",
            "41           477                0                   0\n",
            "42           837                0                   0\n",
            "43           790                0                   0\n",
            "44           362                0                   1\n",
            "45            86                0                   0\n",
            "46            67                0                   0\n",
            "47           350                0                   0\n",
            "48           210                0                   0\n",
            "49           659                0                   0\n",
            "50           448                1                   1\n",
            "51           820                1                   1\n",
            "52           360                0                   0\n",
            "53           802                1                   1\n",
            "54           280                0                   0\n",
            "55           585                1                   1\n",
            "56            70                0                   0\n",
            "57           299                1                   1\n",
            "58           211                1                   1\n",
            "59            44                1                   1\n",
            "60           408                0                   0\n",
            "61           446                1                   1\n",
            "62           426                1                   1\n",
            "63           168                0                   0\n",
            "64           196                0                   0\n",
            "65           772                0                   1\n",
            "66            72                0                   0\n",
            "67           422                0                   0\n",
            "68           532                0                   0\n",
            "69           591                1                   1\n",
            "70           312                0                   1\n",
            "71           311                1                   1\n",
            "72           889                1                   1\n",
            "73           835                1                   1\n",
            "74           833                0                   0\n",
            "75           605                0                   0\n",
            "76           767                0                   1\n",
            "77           539                1                   1\n",
            "78           357                0                   1\n",
            "79           254                0                   0\n",
            "80           266                0                   0\n",
            "81            66                1                   1\n",
            "82           319                1                   1\n",
            "83           778                0                   0\n",
            "84           174                0                   0\n",
            "85           493                0                   0\n",
            "86           215                1                   1\n",
            "87           309                1                   1\n",
            "88           822                0                   0\n",
            "89           250                0                   0\n",
            "90           165                1                   0\n",
            "91           541                0                   0\n",
            "92           625                0                   0\n",
            "93           388                0                   0\n",
            "94            76                0                   0\n",
            "95           281                0                   0\n",
            "96           712                1                   0\n",
            "97           338                1                   0\n",
            "98           327                1                   1\n",
            "99           321                0                   0\n",
            "100          545                0                   0\n",
            "101          590                0                   0\n",
            "102          291                1                   1\n",
            "103          465                0                   0\n",
            "104          814                0                   0\n",
            "105          442                0                   0\n",
            "106          670                1                   1\n",
            "107          462                0                   0\n",
            "108          286                1                   0\n",
            "109          209                1                   0\n",
            "110          669                1                   1\n",
            "111          227                0                   0\n",
            "112          849                1                   1\n",
            "113          512                1                   0\n",
            "114          527                0                   1\n",
            "115          876                0                   0\n",
            "116           96                0                   0\n",
            "117          292                0                   0\n",
            "118          323                1                   1\n",
            "119          736                0                   0\n",
            "120          529                0                   0\n",
            "121          218                1                   1\n",
            "122          275                1                   1\n",
            "123           78                1                   0\n",
            "124          785                0                   0\n",
            "125          604                1                   1\n",
            "126          796                1                   1\n",
            "127          139                0                   1\n",
            "128          578                0                   1\n",
            "129          494                0                   0\n",
            "130          359                1                   1\n",
            "131           65                1                   0\n",
            "132          481                0                   0\n",
            "133          777                1                   1\n",
            "134          599                1                   0\n",
            "135          830                1                   1\n",
            "136          306                1                   1\n",
            "137          231                0                   0\n",
            "138          845                0                   0\n",
            "139           49                0                   1\n",
            "140          652                0                   0\n",
            "141          854                0                   1\n",
            "142          342                0                   0\n",
            "143          594                0                   0\n",
            "144          885                0                   1\n",
            "145          416                1                   1\n",
            "146          213                0                   0\n",
            "147           33                0                   0\n",
            "148           31                1                   1\n",
            "149          668                0                   0\n",
            "150          584                0                   0\n",
            "151          514                0                   0\n",
            "152          688                0                   0\n",
            "153          109                1                   1\n",
            "154           77                0                   0\n",
            "155          611                0                   0\n",
            "156          643                1                   0\n",
            "157           82                1                   1\n",
            "158          518                1                   1\n",
            "159          657                0                   1\n",
            "160          296                0                   0\n",
            "161          507                1                   0\n",
            "162          808                0                   0\n",
            "163          375                1                   1\n",
            "164            5                0                   0\n",
            "165           54                0                   0\n",
            "166          398                0                   0\n",
            "167          457                1                   1\n",
            "168          521                0                   0\n",
            "169          363                0                   0\n",
            "170           97                1                   1\n",
            "171          417                1                   1\n",
            "172          572                1                   0\n",
            "173          852                0                   1\n",
            "174          433                0                   0\n",
            "175          773                0                   0\n",
            "176           25                1                   0\n",
            "177           84                1                   1\n",
            "178           10                1                   1\n"
          ]
        }
      ]
    }
  ]
}